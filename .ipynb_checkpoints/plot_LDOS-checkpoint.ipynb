{
 "cells": [
  {
   "cell_type": "code",
   "execution_count": 83,
   "metadata": {
    "collapsed": true
   },
   "outputs": [],
   "source": [
    "import pandas as pd\n",
    "import matplotlib.pyplot as plt"
   ]
  },
  {
   "cell_type": "code",
   "execution_count": 95,
   "metadata": {},
   "outputs": [],
   "source": [
    "def load_V(num):\n",
    "    \n",
    "    dfs1 = pd.read_csv(\"v.pdos_atm#\" + str(num) + \"(V)_wfc#1(s)\",sep=\"  \", comment='#', names = ['E', 'LDOS','PDOS'])\n",
    "    dfs2 = pd.read_csv(\"v.pdos_atm#\" + str(num) + \"(V)_wfc#2(s)\",sep=\"  \", comment='#', names = ['E', 'LDOS','PDOS'])\n",
    "    dfp = pd.read_csv(\"v.pdos_atm#\" + str(num) + \"(V)_wfc#3(p)\",sep=\"  \", comment='#', names = ['E', 'LDOS','PDOS1','PDOS2','PDOS3'])\n",
    "    dfd = pd.read_csv(\"v.pdos_atm#\" + str(num) + \"(V)_wfc#4(d)\",sep=\"  \", comment='#', names = ['E', 'LDOS','PDOS1','PDOS2','PDOS3','PDOS4','PDOS5',])\n",
    "    df = pd.DataFrame()\n",
    "    df['E'] = dfs1['E']\n",
    "    df['s1'] = dfs1.filter(regex='LDOS')\n",
    "    df['s2'] = dfs2.filter(regex='LDOS')\n",
    "    df['p'] = dfp.filter(regex='LDOS')\n",
    "    df['d'] = dfd.filter(regex='LDOS')\n",
    "    df['LDOS'] = df.s1 + df.s2 +df.p + df.d\n",
    "    return df"
   ]
  },
  {
   "cell_type": "code",
   "execution_count": 85,
   "metadata": {},
   "outputs": [],
   "source": [
    "df = pd.DataFrame()\n",
    "df['E'] = dfs1['E']\n",
    "df['s1'] = dfs1.filter(regex='LDOS')\n",
    "df['s2'] = dfs2.filter(regex='LDOS')\n",
    "df['p'] = dfp.filter(regex='LDOS')\n",
    "df['d'] = dfd.filter(regex='LDOS')\n",
    "df['LDOS'] = df.s1 + df.s2 +df.p + df.d\n"
   ]
  },
  {
   "cell_type": "code",
   "execution_count": 96,
   "metadata": {},
   "outputs": [
    {
     "name": "stderr",
     "output_type": "stream",
     "text": [
      "c:\\users\\kory\\appdata\\local\\conda\\conda\\envs\\py3\\lib\\site-packages\\ipykernel_launcher.py:3: ParserWarning: Falling back to the 'python' engine because the 'c' engine does not support regex separators (separators > 1 char and different from '\\s+' are interpreted as regex); you can avoid this warning by specifying engine='python'.\n",
      "  This is separate from the ipykernel package so we can avoid doing imports until\n",
      "c:\\users\\kory\\appdata\\local\\conda\\conda\\envs\\py3\\lib\\site-packages\\ipykernel_launcher.py:4: ParserWarning: Falling back to the 'python' engine because the 'c' engine does not support regex separators (separators > 1 char and different from '\\s+' are interpreted as regex); you can avoid this warning by specifying engine='python'.\n",
      "  after removing the cwd from sys.path.\n",
      "c:\\users\\kory\\appdata\\local\\conda\\conda\\envs\\py3\\lib\\site-packages\\ipykernel_launcher.py:5: ParserWarning: Falling back to the 'python' engine because the 'c' engine does not support regex separators (separators > 1 char and different from '\\s+' are interpreted as regex); you can avoid this warning by specifying engine='python'.\n",
      "  \"\"\"\n",
      "c:\\users\\kory\\appdata\\local\\conda\\conda\\envs\\py3\\lib\\site-packages\\ipykernel_launcher.py:6: ParserWarning: Falling back to the 'python' engine because the 'c' engine does not support regex separators (separators > 1 char and different from '\\s+' are interpreted as regex); you can avoid this warning by specifying engine='python'.\n",
      "  \n"
     ]
    },
    {
     "data": {
      "image/png": "[encoded data removed]",
      "text/plain": [
       "<matplotlib.figure.Figure at 0x277ae450c50>"
      ]
     },
     "metadata": {},
     "output_type": "display_data"
    }
   ],
   "source": [
    "\n",
    "df = load_V(10)\n",
    "Fermi = -0.0447\n",
    "plt.plot(df.E-Fermi, df.LDOS, label='V')\n",
    "plt.xlim(-1,3)\n",
    "plt.ylim(0,6)\n",
    "plt.legend()\n",
    "plt.show()"
   ]
  },
  {
   "cell_type": "code",
   "execution_count": null,
   "metadata": {
    "collapsed": true
   },
   "outputs": [],
   "source": []
  }
 ],
 "metadata": {
  "kernelspec": {
   "display_name": "Python 3",
   "language": "python",
   "name": "python3"
  },
  "language_info": {
   "codemirror_mode": {
    "name": "ipython",
    "version": 3
   },
   "file_extension": ".py",
   "mimetype": "text/x-python",
   "name": "python",
   "nbconvert_exporter": "python",
   "pygments_lexer": "ipython3",
   "version": "3.6.2"
  }
 },
 "nbformat": 4,
 "nbformat_minor": 2
}
