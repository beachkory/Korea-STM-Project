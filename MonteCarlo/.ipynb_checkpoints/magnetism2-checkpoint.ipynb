{
 "cells": [
  {
   "cell_type": "markdown",
   "metadata": {},
   "source": [
    "# Non-collinear magnetism - VI$_2$\n",
    "\n",
    "Having looked at the ferromagnetic compound CrI$_3$, we now move on to a bit more complicated material. We will stay in the framework of 2D materials, but now move on to anti-ferromagnetic exchange coupling. We will still have the Hamiltonian\n",
    "\n",
    "$$H = -\\frac{1}{2}\\sum_{ij}J_{ij}\\mathbf{S}_i\\cdot \\mathbf{S}_j+A\\sum_i(S_i^z)^2$$\n",
    "\n",
    "in mind, but now with $J<0$. Go to the 2D database at https://cmrdb.fysik.dtu.dk/?project=c2db and search for VI$_2$ in the CdI$_2$ prototype. Click on the *ferromagnetic* structure and download the .xyz file. Since we will need to do LDA calculations later on, we start by relaxing the structure with the LDA functional. We will be interested in the anti-ferromagnetic state later, but perform the relaxation in the ferromagnetic state, which has a smaller unit cell. Fill in the missing pieces and run the cell below. V has the electronic configuration [Ar]3d$^3$4s$^2$, which can be used to guess the initial magnetic moments. The calculation takes about 17 minutes.\n"
   ]
  },
  {
   "cell_type": "code",
   "execution_count": null,
   "metadata": {
    "collapsed": true
   },
   "outputs": [],
   "source": [
    "from ase.io import read\n",
    "from ase.visualize import view\n",
    "from ase.optimize import BFGS\n",
    "from ase.constraints import UnitCellFilter\n",
    "from gpaw import GPAW, PW\n",
    "\n",
    "S = ???\n",
    "m = S * 2\n",
    "layer = read('VI2.xyz')\n",
    "layer.set_initial_magnetic_moments([m, 0, 0])        \n",
    "view(layer)\n",
    "\n",
    "calc = GPAW(mode=PW(400), xc='LDA', kpts=(4, 4, 1))\n",
    "layer.set_calculator(calc)\n",
    "\n",
    "uf = UnitCellFilter(layer, mask=[1, 1, 0, 0, 0, 1])\n",
    "opt = BFGS(uf)\n",
    "opt.run(fmax=0.1)\n",
    "\n",
    "calc.set(symmetry='off')\n",
    "calc.get_potential_energy()\n",
    "\n",
    "calc.write('VI2_relaxed.gpw')"
   ]
  },
  {
   "cell_type": "markdown",
   "metadata": {},
   "source": [
    "### Magnetic anisotropy\n",
    "Note that we switch off symmetry in the end of the script and do a last calculations with all $k$-points in the Brillouin zone. This is because spinors transform in a non-trivial way and the spin-orbit coupling can be obtained from the irreducible $k$-points without transforming the wavefunctions at symmetry related $k$-points. Evaluate the magnetic anisotropy in the cell below in a manner similar to the case of CrI$_3$. Is the easy-axis in plane or out of plane? Do you expect to find a finite critical temperature based on this?"
   ]
  },
  {
   "cell_type": "code",
   "execution_count": null,
   "metadata": {
    "collapsed": true
   },
   "outputs": [],
   "source": [
    "from gpaw.spinorbit import get_anisotropy\n"
   ]
  },
  {
   "cell_type": "markdown",
   "metadata": {},
   "source": [
    "### Anti-ferromagnetic state\n",
    "\n",
    "We can do an anti-ferromagnetic calculation by repeating the structure we just relaxed and setting the initial magnetic moments accordingly. Fill in the missing values in the cell below and run it. The calculation takes about 7 minutes.\n"
   ]
  },
  {
   "cell_type": "code",
   "execution_count": null,
   "metadata": {
    "collapsed": true
   },
   "outputs": [],
   "source": [
    "layer_afm = layer.repeat((2, 1, 1))\n",
    "layer_afm.set_initial_magnetic_moments([m, 0, 0, -m, 0, 0])\n",
    "view(layer_afm)\n",
    "\n",
    "calc = GPAW(mode=PW(400),\n",
    "            xc='LDA',\n",
    "            kpts=???))\n",
    "layer_afm.set_calculator(calc)\n",
    "layer_afm.get_potential_energy()\n",
    "calc.write('V2I4_afm.gpw')\n",
    "\n",
    "...\n"
   ]
  },
  {
   "cell_type": "markdown",
   "metadata": {},
   "source": [
    "### Calculating J\n",
    "Is the total energy of anti-ferromagnetic state smaller than the ferromagnetic one? It should be. But since we are running with rather low parameters for $k$-point sampling and plane wave cutoff, we better perform a ferromagnetic calculation with exactly the same parameters to make sure. Run the cell above with in a ferromagnetic spin state and compare the resulting energies.\n",
    "\n",
    "The anti-ferromagnetic state we constructed appears to have a lower energy, but can we really be sure that this is the magnetic ground state? The exchange coupling must be negative, which indicates that spins prefer to be anti-aligned. Draw the magnetic configuration of the lattice on a piece of paper and convince yourself that all spins cannot be anti-aligned on the hexagonal lattice. The anti-ferromagnetic structure we obtained must thus be frustrated and possibly not the true ground state.\n",
    "\n",
    "Let us put that aside for the moment and try to calculate $J$. Use the Heisenberg model with classical spins, nearest neighbor interaction only, and $A=0$ to derive that the energy per site of the two configurations can be written as\n",
    "\n",
    "$$E_{\\mathrm{FM}} = E_0 - \\frac{1}{2}6S^2J$$\n",
    "\n",
    "and\n",
    "\n",
    "$$E_{\\mathrm{AFM}} = E_0 + \\frac{1}{2}2S^2J$$\n",
    "\n",
    "per site, where $E_0$ is some reference energy. Use these expressions to eliminate $E_0$ and express $J$ in terms of the energy difference. Use the energies obtained with DFT to calculate $J$. You should get -1.4 meV. Do it with python in the cell below."
   ]
  },
  {
   "cell_type": "code",
   "execution_count": null,
   "metadata": {
    "collapsed": true
   },
   "outputs": [],
   "source": [
    "E_fm = ???\n",
    "E_afm = ???\n",
    "\n",
    "J = ???\n",
    "print('J = %1.2f meV' % (J * 1000))"
   ]
  },
  {
   "cell_type": "markdown",
   "metadata": {},
   "source": [
    "### Non-collinear configuration\n",
    "As it turn out the optimal spin structure of a hexagonal lattice with anti-ferromagntice coupling is taking all spins at 120$^\\circ$ angles with respect to each other. Draw this structure and convince yourself that it can be done.\n",
    "\n",
    "1. What is the minimal number of magnetic atoms required in the magnetic unit cell\n",
    "2. Verrify that the Heisenberg model with classical spins gives a lower energy with this configuration that the anti-aligned structure calculated above. The energy per site of this state should be \n",
    "\n",
    "$$E_{\\mathrm{NC}}=E_0+\\frac{3}{2}S^2J.$$\n",
    "\n",
    "We will now check if LDA can verify this prediction. To do that we need to perform a calculation with non-collinear spin. This is done in the cell below. Assert that the the total energy per site is lower than what we obtained with the collinear anti-ferromagnetic configuration above. Also check the local magnetic moments printet at the end of the calculation."
   ]
  },
  {
   "cell_type": "code",
   "execution_count": null,
   "metadata": {
    "collapsed": true
   },
   "outputs": [],
   "source": [
    "import numpy as np\n",
    "from ase.io import read\n",
    "from ase.visualize import view\n",
    "from gpaw import GPAW, PW, MixerDif\n",
    "\n",
    "m = 3\n",
    "cell_cv = layer.get_cell()\n",
    "layer_nc = layer.repeat((3, 1, 1))\n",
    "new_cell_cv = [[3 * cell_cv[0, 0] / 2, 3**0.5 * cell_cv[0, 0] / 2, 0.0], \n",
    "               [3 * cell_cv[0, 0] / 2, -3**0.5 * cell_cv[0, 0] / 2, 0.0],\n",
    "               [0.0, 0.0, cell_cv[2, 2]]]\n",
    "layer_nc.set_cell(new_cell_cv)\n",
    "view(layer_nc)\n",
    "\n",
    "magmoms = np.zeros((len(layer_nc), 3), float)\n",
    "magmoms[0] = [m, 0, 0]\n",
    "magmoms[3] = [m * np.cos(2 * np.pi / 3), m * np.sin(2 * np.pi / 3), 0]\n",
    "magmoms[6] = [m * np.cos(2 * np.pi / 3), -m * np.sin(2 * np.pi / 3), 0]\n",
    "\n",
    "calc = GPAW(mode=PW(400),\n",
    "            xc='LDA',\n",
    "            mixer=MixerDif(),\n",
    "            symmetry='off',\n",
    "            experimental={'magmoms': magmoms, 'soc': False},\n",
    "            parallel={'domain': 1, 'band': 1},\n",
    "            kpts=(2, 2, 1),\n",
    "            )\n",
    "layer_nc.set_calculator(calc)\n",
    "layer_nc.get_potential_energy()\n",
    "calc.write('nc_nosoc.gpw')\n",
    "\n"
   ]
  },
  {
   "cell_type": "markdown",
   "metadata": {},
   "source": [
    "### Anisotropy and exhange coupling from the non-collinear configuration\n",
    "In the cell above we could have set 'soc'=True' to include spin-orbit coupling in the self-consistent non-collinear solution. However, it is more convenient for us to exclude it such that we can explicitly obtain the anisotropy based on this calculation.\n",
    "\n",
    "If the Heisenberg Hamiltonian with nearest neighbor interactions is a good model we should be able to obtain both $J$ and $A$ from the non-collinear calculation as well. Write some python code in the cell below that return $J$ and $A$ based on the non-collinear calculation. The calculation of $J$ requires two spin configurations and we could use the ferromagnetic calculation in the simple unit cell obtained at the top of the notebook as one of them. But, since the energy differences are rather small it is much better if you can obtain a ferromagnetic state with the same unit cell and parameters as we used for the non-collinear calculation. You may thus run the cell above once more, but with ferromagnetic alignment."
   ]
  },
  {
   "cell_type": "code",
   "execution_count": null,
   "metadata": {
    "collapsed": true
   },
   "outputs": [],
   "source": [
    "from gpaw.spinorbit import get_anisotropy\n",
    "from math import pi\n",
    "\n"
   ]
  },
  {
   "cell_type": "markdown",
   "metadata": {},
   "source": [
    "### Critical temperature?\n",
    "Now answer the following questions:\n",
    "\n",
    "1.  What is the easy axis? (Hint: the anisotropy is calculated by rotating the initial spin configuration first by $\\theta$ and then by $\\varphi$). Does it agree with waht you found above for the simple ferromagnetic state?\n",
    "2.  Is there any rotational freedom left in the non-collinear ground state if we assume in plane isotropy?\n",
    "\n",
    "You might be able to convince yourself that some degree of in-plane anisotropy is required as well to obtain a finite critical temperature for magnetic order.\n",
    "\n",
    "Clearly the non-collinear spin state of VI$_2$ is more difficult to describe than the ferromagnetic state in CrI$_3$ and we do not yet have a simple theoretical expression fot the critical temperature as a function of anisotropy and exchange coupling constants. However, with the rapid development of excperimental techniques to synthesize and characterize 2D materials it does seem plausible that such a non-collinear 2D material may be observed in the near future.\n",
    "\n",
    "Again, bear in mind that all the calculations in the present notebook ought to be properly converged with respect to $k$-points, plane wave cutoff etc."
   ]
  }
 ],
 "metadata": {
  "kernelspec": {
   "display_name": "Python 3",
   "language": "python",
   "name": "python3"
  },
  "language_info": {
   "codemirror_mode": {
    "name": "ipython",
    "version": 3
   },
   "file_extension": ".py",
   "mimetype": "text/x-python",
   "name": "python",
   "nbconvert_exporter": "python",
   "pygments_lexer": "ipython3",
   "version": "3.6.1"
  }
 },
 "nbformat": 4,
 "nbformat_minor": 2
}
